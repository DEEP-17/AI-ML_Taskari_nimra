{
 "cells": [
  {
   "cell_type": "code",
   "execution_count": 1,
   "id": "6f33a01c",
   "metadata": {},
   "outputs": [
    {
     "name": "stdout",
     "output_type": "stream",
     "text": [
      "14\n"
     ]
    }
   ],
   "source": [
    "a=5\n",
    "b=9\n",
    "c=a+b\n",
    "print(c)"
   ]
  },
  {
   "cell_type": "code",
   "execution_count": 3,
   "id": "14bdd213",
   "metadata": {},
   "outputs": [
    {
     "name": "stdout",
     "output_type": "stream",
     "text": [
      "l\n",
      " deep!\n",
      "Hello deep!Hello deep!Hello deep!\n",
      "Hello deep!i am a good boy\n"
     ]
    }
   ],
   "source": [
    "str = 'Hello deep!'\n",
    "print (str[3]) \n",
    "print (str[5:]) \n",
    "print (str * 3)\n",
    "print (str + \"i am a good boy\") "
   ]
  },
  {
   "cell_type": "code",
   "execution_count": 4,
   "id": "e931c699",
   "metadata": {},
   "outputs": [
    {
     "name": "stdout",
     "output_type": "stream",
     "text": [
      "!\n",
      "ep\n",
      "Hello deep!\n"
     ]
    }
   ],
   "source": [
    "print (str[-6])\n",
    "print (str[-3:-1])\n",
    "print (str[-12:])"
   ]
  },
  {
   "cell_type": "code",
   "execution_count": 5,
   "id": "d56dae41",
   "metadata": {},
   "outputs": [
    {
     "name": "stdout",
     "output_type": "stream",
     "text": [
      "['banana', 20, 4.556e-23, 'juhi']\n",
      "['fruit', 'vegetables']\n",
      "banana 20\n",
      "juhi\n",
      "['banana', 20, 4.556e-23, 'juhi', 'fruit', 'vegetables']\n",
      "['fruit', 'vegetables', 'fruit', 'vegetables']\n"
     ]
    }
   ],
   "source": [
    "list=[\"banana\",20,45.56e-24,\"juhi\"]\n",
    "print(list)\n",
    "list2=[\"fruit\",\"vegetables\"]\n",
    "print(list2)\n",
    "print(list[0],list[1])\n",
    "print(list[3])\n",
    "print(list+list2)\n",
    "print(list2*2)"
   ]
  },
  {
   "cell_type": "code",
   "execution_count": 6,
   "id": "3e575377",
   "metadata": {},
   "outputs": [
    {
     "name": "stdout",
     "output_type": "stream",
     "text": [
      "('banana', 'juyy', 45.67, 9e+46)\n",
      "('juhi', 'rutva')\n",
      "('banana', 'juyy', 45.67, 9e+46)\n",
      "banana rutva\n",
      "('banana', 'juyy', 45.67, 9e+46, 'banana', 'juyy', 45.67, 9e+46)\n",
      "('banana', 'juyy', 45.67, 9e+46, 'juhi', 'rutva')\n"
     ]
    }
   ],
   "source": [
    "tuple=(\"banana\",\"juyy\",45.67,90e45)\n",
    "tuple2=(\"juhi\",\"rutva\")\n",
    "print(tuple)\n",
    "print(tuple2)\n",
    "print(tuple)\n",
    "print(tuple[0],tuple2[1])\n",
    "print(tuple*2)\n",
    "print(tuple+tuple2)"
   ]
  },
  {
   "cell_type": "code",
   "execution_count": 7,
   "id": "e53962e7",
   "metadata": {},
   "outputs": [
    {
     "name": "stdout",
     "output_type": "stream",
     "text": [
      "enter value of a:34\n",
      "enter the value of a:12\n",
      "enter three values:1,2,3\n",
      "enter a,b,c:1,4,5\n"
     ]
    }
   ],
   "source": [
    "a=input(\"enter value of a:\")\n",
    "a=int(input(\"enter the value of a:\"))\n",
    "a=eval(input(\"enter three values:\"))\n",
    "a,b,c=eval(input(\"enter a,b,c:\"))"
   ]
  },
  {
   "cell_type": "code",
   "execution_count": 2,
   "id": "f776c3af",
   "metadata": {},
   "outputs": [],
   "source": [
    "dict={}\n",
    "dict['deep']=\"this is deep\"\n",
    "dict[2]=\"this is two\"\n",
    "\n",
    "a={'name':'john','rollno':240,'course': \"computer science and engineering\"}\n",
    "\n",
    "print(dict['deep'])\n",
    "print(dict[2])\n",
    "print(a)\n",
    "print(a.keys())\n",
    "print(a.values())"
   ]
  },
  {
   "cell_type": "code",
   "execution_count": 1,
   "id": "ae311114",
   "metadata": {},
   "outputs": [
    {
     "name": "stdout",
     "output_type": "stream",
     "text": [
      "enter the first number 3\n",
      "enter the second  number 4\n",
      "enter the number for operation 1\n"
     ]
    }
   ],
   "source": [
    "a=int(input(\"enter the first number \"))\n",
    "b=int(input(\"enter the second  number \"))\n",
    "print(\"input 1 for addition\")\n",
    "print(\"input 2 for multiplication\")\n",
    "print(\"input 3 for subtraction\")\n",
    "print(\"input 4 for division\")\n",
    "print(\"input 5 for a to the power \")\n",
    "c=int(input(\"enter the number for operation \"))\n",
    "if c==1:\n",
    "      print(a+b)\n",
    "if c==2:\n",
    "      print(a*b)\n",
    "if c==3:\n",
    "      print(a-b)\n",
    "if c==4:\n",
    "      print(a/b)\n",
    "if c==5:\n",
    "      print(a**b)\n",
    "\n",
    "\n",
    "                       "
   ]
  },
  {
   "cell_type": "code",
   "execution_count": 39,
   "id": "cf3742cb",
   "metadata": {},
   "outputs": [
    {
     "name": "stdout",
     "output_type": "stream",
     "text": [
      "enter the first number 56\n",
      "enter the second  number 69\n",
      "input 1 for addition\n",
      "input 2 for multiplication\n",
      "input 3 for subtraction\n",
      "input 4 for division\n",
      "input 5 for a to the power \n",
      "enter the number for operation 5\n",
      "4216711257875808369562575096272390479480063075306329696207928158726962893829330924837212726523541393210380243389902749696\n",
      "do you wish to continue\n",
      "1.Yes\n",
      "2.No1\n",
      "enter the first number 2\n",
      "enter the second  number 3\n",
      "input 1 for addition\n",
      "input 2 for multiplication\n",
      "input 3 for subtraction\n",
      "input 4 for division\n",
      "input 5 for a to the power \n",
      "enter the number for operation 4\n",
      "0.6666666666666666\n",
      "do you wish to continue\n",
      "1.Yes\n",
      "2.No1\n",
      "enter the first number \n"
     ]
    },
    {
     "ename": "ValueError",
     "evalue": "invalid literal for int() with base 10: ''",
     "output_type": "error",
     "traceback": [
      "\u001b[1;31m---------------------------------------------------------------------------\u001b[0m",
      "\u001b[1;31mValueError\u001b[0m                                Traceback (most recent call last)",
      "Cell \u001b[1;32mIn[39], line 3\u001b[0m\n\u001b[0;32m      1\u001b[0m d\u001b[38;5;241m=\u001b[39m\u001b[38;5;241m1\u001b[39m\n\u001b[0;32m      2\u001b[0m \u001b[38;5;28;01mwhile\u001b[39;00m(d\u001b[38;5;241m==\u001b[39m\u001b[38;5;241m1\u001b[39m):\n\u001b[1;32m----> 3\u001b[0m     a\u001b[38;5;241m=\u001b[39m\u001b[38;5;28;43mint\u001b[39;49m\u001b[43m(\u001b[49m\u001b[38;5;28;43minput\u001b[39;49m\u001b[43m(\u001b[49m\u001b[38;5;124;43m\"\u001b[39;49m\u001b[38;5;124;43menter the first number \u001b[39;49m\u001b[38;5;124;43m\"\u001b[39;49m\u001b[43m)\u001b[49m\u001b[43m)\u001b[49m\n\u001b[0;32m      4\u001b[0m     b\u001b[38;5;241m=\u001b[39m\u001b[38;5;28mint\u001b[39m(\u001b[38;5;28minput\u001b[39m(\u001b[38;5;124m\"\u001b[39m\u001b[38;5;124menter the second  number \u001b[39m\u001b[38;5;124m\"\u001b[39m))\n\u001b[0;32m      5\u001b[0m     \u001b[38;5;28mprint\u001b[39m(\u001b[38;5;124m\"\u001b[39m\u001b[38;5;124minput 1 for addition\u001b[39m\u001b[38;5;124m\"\u001b[39m)\n",
      "\u001b[1;31mValueError\u001b[0m: invalid literal for int() with base 10: ''"
     ]
    }
   ],
   "source": [
    "d=1\n",
    "while(d==1):\n",
    "    a=int(input(\"enter the first number \"))\n",
    "    b=int(input(\"enter the second  number \"))\n",
    "    print(\"input 1 for addition\")\n",
    "    print(\"input 2 for multiplication\")\n",
    "    print(\"input 3 for subtraction\")\n",
    "    print(\"input 4 for division\")\n",
    "    print(\"input 5 for a to the power \")\n",
    "    c=int(input(\"enter the number for operation \"))\n",
    "\n",
    "    if c==1:\n",
    "          print(a+b)\n",
    "    if c==2:\n",
    "          print(a*b)\n",
    "    if c==3:\n",
    "          print(a-b)\n",
    "    if c==4:\n",
    "          print(a/b)\n",
    "    if c==5:\n",
    "          print(a**b)\n",
    "    d=int(input(\"do you wish to continue\\n1.Yes\\n2.No\"))"
   ]
  },
  {
   "cell_type": "code",
   "execution_count": null,
   "id": "006d3bc6",
   "metadata": {},
   "outputs": [],
   "source": [
    "a=[\n",
    "[1,2,3],\n",
    "[4,5,6]\n",
    "]\n",
    "print(a[0])\n",
    "print(a[1])\n",
    "print(a[0][0])\n",
    "print(a[0][2])\n",
    "print(a[1][2])"
   ]
  },
  {
   "cell_type": "code",
   "execution_count": 37,
   "id": "18aaaffb",
   "metadata": {},
   "outputs": [
    {
     "name": "stdout",
     "output_type": "stream",
     "text": [
      "1\n"
     ]
    }
   ],
   "source": [
    "x=45\n",
    "y=54\n",
    "print(y//x)"
   ]
  },
  {
   "cell_type": "code",
   "execution_count": 40,
   "id": "1cba8c6e",
   "metadata": {},
   "outputs": [
    {
     "name": "stdout",
     "output_type": "stream",
     "text": [
      "False\n",
      "True\n",
      "True\n",
      "False\n",
      "False\n",
      "True\n"
     ]
    }
   ],
   "source": [
    "print(a == b)\n",
    "print((a != b))\n",
    "print((a <= b))\n",
    "print((a >= b))\n",
    "print((a > b))\n",
    "print((a < b))"
   ]
  },
  {
   "cell_type": "code",
   "execution_count": 11,
   "id": "a15b9e87",
   "metadata": {},
   "outputs": [
    {
     "ename": "SyntaxError",
     "evalue": "invalid syntax (62072286.py, line 7)",
     "output_type": "error",
     "traceback": [
      "\u001b[1;36m  Cell \u001b[1;32mIn[11], line 7\u001b[1;36m\u001b[0m\n\u001b[1;33m    print((p<<))\u001b[0m\n\u001b[1;37m              ^\u001b[0m\n\u001b[1;31mSyntaxError\u001b[0m\u001b[1;31m:\u001b[0m invalid syntax\n"
     ]
    }
   ],
   "source": [
    "p=69\n",
    "q=36\n",
    "print((p& q))\n",
    "print((p | q))\n",
    "print((p ^ q))\n",
    "print((~p))\n",
    "print((p<<))\n",
    "print((>>p))"
   ]
  },
  {
   "cell_type": "code",
   "execution_count": 48,
   "id": "4b9deb77",
   "metadata": {},
   "outputs": [
    {
     "name": "stdout",
     "output_type": "stream",
     "text": [
      "36\n",
      "69\n",
      "False\n"
     ]
    }
   ],
   "source": [
    "print((p and q))\n",
    "print((p or q))\n",
    "print(not(p and q))"
   ]
  },
  {
   "cell_type": "code",
   "execution_count": 52,
   "id": "2866f13b",
   "metadata": {},
   "outputs": [
    {
     "name": "stdout",
     "output_type": "stream",
     "text": [
      "1 - Got a true expression value\n",
      "100\n",
      "Good bye!\n"
     ]
    }
   ],
   "source": [
    "var1 = 100\n",
    "if var1:\n",
    "    print (\"1 - Got a true expression value\")\n",
    "    print (var1)\n",
    "var2 = 0\n",
    "if var2:\n",
    "    print (\"2 - Got a true expression value\")\n",
    "    print (var2)\n",
    "print (\"Good bye!\")"
   ]
  },
  {
   "cell_type": "code",
   "execution_count": 55,
   "id": "d66ee8b2",
   "metadata": {},
   "outputs": [
    {
     "name": "stdout",
     "output_type": "stream",
     "text": [
      "Enter amount: 696969\n",
      "Discount 69696.90000000001\n",
      "Net payable: 627272.1\n"
     ]
    }
   ],
   "source": [
    "amount=int(input(\"Enter amount: \"))\n",
    "if amount<1000:\n",
    "    discount=amount*0.05\n",
    "    print (\"Discount\",discount)\n",
    "else:\n",
    "    discount=amount*0.10\n",
    "    print (\"Discount\",discount)\n",
    "    print (\"Net payable:\",amount-discount)"
   ]
  },
  {
   "cell_type": "code",
   "execution_count": 57,
   "id": "2eaee679",
   "metadata": {},
   "outputs": [
    {
     "name": "stdout",
     "output_type": "stream",
     "text": [
      "enter number21\n",
      "Divisible by 3 and 7\n"
     ]
    }
   ],
   "source": [
    "num=int(input(\"enter number\"))\n",
    "if num%3==0:\n",
    "    if num%7==0:\n",
    "        print (\"Divisible by 3 and 7\")\n",
    "    else:\n",
    "        print (\"divisible by 3 not divisible by 7\")\n",
    "else:\n",
    "    if num%3==0:\n",
    "        print (\"divisible by 3 not divisible by 7\")\n",
    "    else:\n",
    "        print (\"not Divisible by 7 not divisible by 3\")"
   ]
  },
  {
   "cell_type": "code",
   "execution_count": 63,
   "id": "72daa880",
   "metadata": {},
   "outputs": [
    {
     "name": "stdout",
     "output_type": "stream",
     "text": [
      "Current Letter : P\n",
      "Current Letter : y\n",
      "Current Letter : t\n"
     ]
    }
   ],
   "source": [
    "for letter in 'Python':\n",
    "    if letter == 'h':\n",
    "        break\n",
    "    print ('Current Letter :', letter)\n"
   ]
  },
  {
   "cell_type": "code",
   "execution_count": 2,
   "id": "4c5d2b0d",
   "metadata": {},
   "outputs": [
    {
     "name": "stdout",
     "output_type": "stream",
     "text": [
      "the list does not contain even number\n",
      "the list contains an even number\n",
      "the list does not contain even number\n",
      "the list contains an even number\n",
      "the list does not contain even number\n",
      "the list contains an even number\n",
      "the list does not contain even number\n",
      "the list contains an even number\n",
      "the list does not contain even number\n"
     ]
    }
   ],
   "source": [
    "numbers=[1,2,3,4,5,6,7,8,9]\n",
    "for num in numbers:\n",
    "    if num%2==0:\n",
    "        print ('the list contains an even number')\n",
    "        \n",
    "    else:\n",
    "        print ('the list does not contain even number')"
   ]
  },
  {
   "cell_type": "code",
   "execution_count": 2,
   "id": "cf5fefa7",
   "metadata": {},
   "outputs": [
    {
     "name": "stdout",
     "output_type": "stream",
     "text": [
      "Current fruit : purple\n",
      "Current fruit : red\n",
      "Current fruit : orange\n"
     ]
    }
   ],
   "source": [
    "colours = ['purple', 'red', 'orange']\n",
    "for index in range(len(colours)):\n",
    "    print ('Current fruit :', colours[index])"
   ]
  },
  {
   "cell_type": "code",
   "execution_count": 2,
   "id": "329b0d25",
   "metadata": {},
   "outputs": [
    {
     "data": {
      "text/plain": [
       "array([1., 4., 5., 8.])"
      ]
     },
     "execution_count": 2,
     "metadata": {},
     "output_type": "execute_result"
    }
   ],
   "source": [
    "import numpy as np\n",
    "a=np.array([1,4,5,8],float)\n",
    "a"
   ]
  },
  {
   "cell_type": "code",
   "execution_count": 6,
   "id": "54472ad9",
   "metadata": {},
   "outputs": [],
   "source": [
    "b=np.array([[1,2,3],[4,5,6]],float)\n",
    "b.shape\n",
    "b.dtype\n",
    "len(b)\n",
    "b.reshape((3,2))\n",
    "b.transpose\n",
    "b.flatten()\n",
    "c=np.concatenate((a,b.flatten()))"
   ]
  },
  {
   "cell_type": "code",
   "execution_count": 7,
   "id": "aa31cdef",
   "metadata": {},
   "outputs": [
    {
     "name": "stdout",
     "output_type": "stream",
     "text": [
      "[1. 2. 3.]\n",
      "[4. 5. 6.]\n"
     ]
    }
   ],
   "source": [
    "for x in b:\n",
    "    print(x)"
   ]
  },
  {
   "cell_type": "code",
   "execution_count": 8,
   "id": "182e3746",
   "metadata": {},
   "outputs": [
    {
     "data": {
      "text/plain": [
       "array([1., 2., 3., 4., 5., 6., 8.])"
      ]
     },
     "execution_count": 8,
     "metadata": {},
     "output_type": "execute_result"
    }
   ],
   "source": [
    "np.argmax(c)\n",
    "np.unique(c)"
   ]
  },
  {
   "cell_type": "code",
   "execution_count": 9,
   "id": "2e305182",
   "metadata": {},
   "outputs": [
    {
     "data": {
      "text/plain": [
       "array([0.6552066 , 0.83743491, 0.50995215, 0.36902178, 0.26782962])"
      ]
     },
     "execution_count": 9,
     "metadata": {},
     "output_type": "execute_result"
    }
   ],
   "source": [
    "any(c)\n",
    "np.where(c>0,3,5)\n",
    "np.median(c)\n",
    "np.random.rand(5)"
   ]
  },
  {
   "cell_type": "code",
   "execution_count": 10,
   "id": "af32ae60",
   "metadata": {},
   "outputs": [
    {
     "data": {
      "text/plain": [
       "array([2., 5., 4., 4., 8., 5., 6., 1., 3., 1.])"
      ]
     },
     "execution_count": 10,
     "metadata": {},
     "output_type": "execute_result"
    }
   ],
   "source": [
    "np.random.shuffle(c)\n",
    "c"
   ]
  },
  {
   "cell_type": "code",
   "execution_count": 11,
   "id": "1b01129c",
   "metadata": {},
   "outputs": [
    {
     "ename": "SyntaxError",
     "evalue": "invalid character '‘' (U+2018) (2919216606.py, line 2)",
     "output_type": "error",
     "traceback": [
      "\u001b[1;36m  Cell \u001b[1;32mIn[11], line 2\u001b[1;36m\u001b[0m\n\u001b[1;33m    np.save(‘outfile’, x)\u001b[0m\n\u001b[1;37m            ^\u001b[0m\n\u001b[1;31mSyntaxError\u001b[0m\u001b[1;31m:\u001b[0m invalid character '‘' (U+2018)\n"
     ]
    }
   ],
   "source": [
    "x=np.arange(10)\n",
    "np.save(‘outfile’, x)\n",
    "x = np.load(‘outfile.npy’)\n",
    "print(x)"
   ]
  },
  {
   "cell_type": "code",
   "execution_count": 16,
   "id": "7758d5bd",
   "metadata": {},
   "outputs": [
    {
     "data": {
      "text/plain": [
       "Text(0, 0.5, 'y axis caption')"
      ]
     },
     "execution_count": 16,
     "metadata": {},
     "output_type": "execute_result"
    },
    {
     "data": {
      "image/png": "[encoded data removed]",
      "text/plain": [
       "<Figure size 640x480 with 1 Axes>"
      ]
     },
     "metadata": {},
     "output_type": "display_data"
    }
   ],
   "source": [
    "\n",
    "from matplotlib import pyplot as plt\n",
    "\n",
    "plt.xlabel(\"x axis caption\")\n",
    "plt.ylabel(\"y axis caption\")\n"
   ]
  },
  {
   "cell_type": "code",
   "execution_count": 19,
   "id": "09f9bc58",
   "metadata": {},
   "outputs": [],
   "source": [
    "x = np.arange(0, 10)\n",
    "y = x + 1\n"
   ]
  },
  {
   "cell_type": "code",
   "execution_count": 37,
   "id": "173fb3cd",
   "metadata": {},
   "outputs": [
    {
     "data": {
      "image/png": "[encoded data removed]",
      "text/plain": [
       "<Figure size 640x480 with 1 Axes>"
      ]
     },
     "metadata": {},
     "output_type": "display_data"
    }
   ],
   "source": [
    "plt.title(\"Matplotlib demo\")\n",
    "plt.xlabel(\"x axis \")\n",
    "plt.ylabel(\"y axis \")\n",
    "plt.plot(x, y, linestyle='-', color='b',marker='v')\n",
    "plt.show()"
   ]
  },
  {
   "cell_type": "code",
   "execution_count": 40,
   "id": "6ba2532b",
   "metadata": {},
   "outputs": [
    {
     "data": {
      "image/png": "[encoded data removed]",
      "text/plain": [
       "<Figure size 640x480 with 2 Axes>"
      ]
     },
     "metadata": {},
     "output_type": "display_data"
    }
   ],
   "source": [
    "x = np.arange(0, 3 * np.pi, 0.1) \n",
    "y_sin = np.sin(x) \n",
    "y_cos = np.cos(x) \n",
    "plt.subplot(2, 1, 1)\n",
    "\n",
    "plt.plot(x, y_sin) \n",
    "plt.title('Sine') \n",
    " \n",
    "plt.subplot(2, 1, 2) \n",
    "plt.plot(x, y_cos) \n",
    "plt.title('Cosine') \n",
    " \n",
    "plt.show()"
   ]
  },
  {
   "cell_type": "code",
   "execution_count": 2,
   "id": "8753e425",
   "metadata": {},
   "outputs": [
    {
     "data": {
      "image/png": "[encoded data removed]",
      "text/plain": [
       "<Figure size 640x480 with 2 Axes>"
      ]
     },
     "metadata": {},
     "output_type": "display_data"
    }
   ],
   "source": [
    "import numpy as np \n",
    "import matplotlib.pyplot as plt\n",
    "x = np.arange(0, 3 * np.pi, 0.1) \n",
    "y_sin = np.sin(x) \n",
    "y_cos = np.cos(x) \n",
    "plt.subplot(2, 1, 1)\n",
    "\n",
    "plt.plot(x, y_sin) \n",
    "plt.title('Sine') \n",
    " \n",
    "plt.subplot(2, 1, 2) \n",
    "plt.plot(x, y_cos) \n",
    "plt.title('Cosine') \n",
    " \n",
    "plt.show()"
   ]
  },
  {
   "cell_type": "code",
   "execution_count": 3,
   "id": "35a5697d",
   "metadata": {},
   "outputs": [
    {
     "data": {
      "image/png": "[encoded data removed]",
      "text/plain": [
       "<Figure size 640x480 with 4 Axes>"
      ]
     },
     "metadata": {},
     "output_type": "display_data"
    }
   ],
   "source": [
    "x = np.arange(0, 3 * np.pi, 0.1) \n",
    "y_sin = np.sin(x) \n",
    "y_cos = np.cos(x) \n",
    "plt.subplot(2, 2, 1)\n",
    "plt.plot(x, y_sin) \n",
    "plt.title('Sine') \n",
    "plt.subplot(2, 2, 2) \n",
    "plt.plot(x, y_cos) \n",
    "plt.title('Cosine') \n",
    "plt.subplot(2, 2, 3) \n",
    "plt.plot(x, y_cos) \n",
    "plt.title('Cosine') \n",
    "plt.subplot(2, 2, 4) \n",
    "plt.plot(x, y_sin) \n",
    "plt.title('Sine') \n",
    "plt.suptitle('Sine and Cosine')\n",
    "plt.show()"
   ]
  },
  {
   "cell_type": "code",
   "execution_count": 6,
   "id": "6c55b229",
   "metadata": {},
   "outputs": [
    {
     "data": {
      "image/png": "[encoded data removed]",
      "text/plain": [
       "<Figure size 640x480 with 1 Axes>"
      ]
     },
     "metadata": {},
     "output_type": "display_data"
    }
   ],
   "source": [
    "x = np.arange(1,11) \n",
    "y1 = x + 1 \n",
    "y2 = x + 5\n",
    "plt.title(\"Matplotlib demo\") \n",
    "plt.xlabel(\"x axis caption\") \n",
    "plt.ylabel(\"y axis caption\") \n",
    "plt.plot(x,y1,label=\"student 1\")\n",
    "plt.plot(x,y2,label=\"student 2\")\n",
    "plt.legend(loc=10)\n",
    "plt.show()"
   ]
  },
  {
   "cell_type": "code",
   "execution_count": 7,
   "id": "90f5219d",
   "metadata": {},
   "outputs": [
    {
     "data": {
      "image/png": "[encoded data removed]",
      "text/plain": [
       "<Figure size 640x480 with 1 Axes>"
      ]
     },
     "metadata": {},
     "output_type": "display_data"
    }
   ],
   "source": [
    "x = np.arange(1,11) \n",
    "y1 = x + 1 \n",
    "y2 = x + 5 \n",
    "plt.title(\"Matplotlib demo\") \n",
    "plt.xlabel(\"x axis caption\") \n",
    "plt.ylabel(\"y axis caption\") \n",
    "plt.scatter(x, y1, label=\"student 1\")\n",
    "plt.scatter(x, y2, label=\"student 2\")\n",
    "plt.legend(loc=2)\n",
    "plt.xticks(np.arange(1, 11), ['a','b','c','d','e','f','g','h','i','j'], rotation=45)\n",
    "plt.yticks(np.arange(16))\n",
    "plt.show()"
   ]
  },
  {
   "cell_type": "code",
   "execution_count": 11,
   "id": "5418b4ba",
   "metadata": {},
   "outputs": [
    {
     "data": {
      "image/png": "[encoded data removed]",
      "text/plain": [
       "<Figure size 640x480 with 1 Axes>"
      ]
     },
     "metadata": {},
     "output_type": "display_data"
    }
   ],
   "source": [
    "a = np.array([22,87,5,43,56,73,55,54,11,20,51,5,79,31,27]) \n",
    "plt.hist(a, bins = [0,20,40,60,80,100], color = 'b', edgecolor='k', linewidth = 0.0003) \n",
    "plt.title(\"histogram\") \n",
    "plt.show()"
   ]
  },
  {
   "cell_type": "code",
   "execution_count": 4,
   "id": "704ed7c9",
   "metadata": {},
   "outputs": [
    {
     "name": "stdout",
     "output_type": "stream",
     "text": [
      "[10, 2, 3, 345, 5, 6]\n",
      "[10, 2, 3, 4, 5, 6]\n",
      "[10, 2, 123, 4, 5, 6]\n"
     ]
    }
   ],
   "source": [
    "a=[10,2,3,4,5,6]\n",
    "c=[10,2,3,4,5,6]\n",
    "e=a.copy()\n",
    "a[3]=345\n",
    "e[2]=123\n",
    "print(a)\n",
    "print(c)\n",
    "print(e)"
   ]
  },
  {
   "cell_type": "code",
   "execution_count": 8,
   "id": "adf892d9",
   "metadata": {},
   "outputs": [
    {
     "name": "stdout",
     "output_type": "stream",
     "text": [
      "[100, 2, 3, 345, 17, 6]\n",
      "[100, 2, 3, 345, 17, 6]\n",
      "[10, 2, 123, 4, 5, 6]\n"
     ]
    }
   ],
   "source": [
    "a=[10,2,3,4,5,6]\n",
    "c=a\n",
    "e=a.copy()\n",
    "a[3]=345\n",
    "a[0]=100\n",
    "c[4]=17\n",
    "e[2]=123\n",
    "print(a)\n",
    "print(c)\n",
    "print(e)"
   ]
  },
  {
   "cell_type": "code",
   "execution_count": 15,
   "id": "6a980da4",
   "metadata": {},
   "outputs": [
    {
     "name": "stdout",
     "output_type": "stream",
     "text": [
      "the list does not contain even number\n"
     ]
    }
   ],
   "source": [
    "numbers=[11,33,55,39,55,75,37,21,23,41,13]\n",
    "for num in numbers:\n",
    "    if num%2==0:\n",
    "        print ('the list contains an even number')\n",
    "        break\n",
    "else:\n",
    "    print ('the list does not contain even number')\n"
   ]
  },
  {
   "cell_type": "code",
   "execution_count": 16,
   "id": "1c6d2f35",
   "metadata": {},
   "outputs": [
    {
     "name": "stdout",
     "output_type": "stream",
     "text": [
      "the list does not contain even number\n"
     ]
    }
   ],
   "source": [
    "numbers=[11,33,55,39,55,75,37,21,23,41,13]\n",
    "for num in numbers:\n",
    "    if num%2==0:\n",
    "        print ('the list contains an even number')\n",
    "        continue\n",
    "else:\n",
    "    print ('the list does not contain even number')"
   ]
  },
  {
   "cell_type": "code",
   "execution_count": 17,
   "id": "f522cdec",
   "metadata": {},
   "outputs": [
    {
     "name": "stdout",
     "output_type": "stream",
     "text": [
      "the list contains an even number\n"
     ]
    }
   ],
   "source": [
    "numbers=[11,22,55,39,46,75,18,21,68,41,13]\n",
    "for num in numbers:\n",
    "    if num%2==0:\n",
    "        print ('the list contains an even number')\n",
    "        break\n",
    "else:\n",
    "    print ('the list does not contain even number')"
   ]
  },
  {
   "cell_type": "code",
   "execution_count": 18,
   "id": "a2a885bc",
   "metadata": {},
   "outputs": [
    {
     "name": "stdout",
     "output_type": "stream",
     "text": [
      "the list contains an even number\n",
      "the list contains an even number\n",
      "the list contains an even number\n",
      "the list contains an even number\n",
      "the list does not contain even number\n"
     ]
    }
   ],
   "source": [
    "numbers=[11,22,55,39,46,75,18,21,68,41,13]\n",
    "for num in numbers:\n",
    "    if num%2==0:\n",
    "        print ('the list contains an even number')\n",
    "        continue\n",
    "else:\n",
    "    print ('the list does not contain even number')"
   ]
  },
  {
   "cell_type": "code",
   "execution_count": 19,
   "id": "cfd22a80",
   "metadata": {},
   "outputs": [
    {
     "name": "stdout",
     "output_type": "stream",
     "text": [
      "7\n",
      "1083.118869020923\n",
      "6\n",
      "1.9441371496489375\n",
      "0.8443280361556501\n"
     ]
    }
   ],
   "source": [
    "import math\n",
    "a=6.9876\n",
    "print(math.ceil(a) )\n",
    "print(math.exp(a) )\n",
    "print(math.floor(a) )\n",
    "print(math.log(a))\n",
    "print(math.log10(a))\n"
   ]
  },
  {
   "cell_type": "code",
   "execution_count": 20,
   "id": "c40f44df",
   "metadata": {},
   "outputs": [
    {
     "name": "stdout",
     "output_type": "stream",
     "text": [
      "1.4142135623730951\n"
     ]
    }
   ],
   "source": [
    "x=4\n",
    "y=0.25\n",
    "print(pow(x, y) )"
   ]
  },
  {
   "cell_type": "code",
   "execution_count": 21,
   "id": "1ea1773c",
   "metadata": {},
   "outputs": [
    {
     "name": "stdout",
     "output_type": "stream",
     "text": [
      "45\n"
     ]
    }
   ],
   "source": [
    "print(min(45,69,10234,4564,231,45664,6875))"
   ]
  },
  {
   "cell_type": "code",
   "execution_count": 22,
   "id": "b3d2acb4",
   "metadata": {},
   "outputs": [
    {
     "name": "stdout",
     "output_type": "stream",
     "text": [
      "45664\n"
     ]
    }
   ],
   "source": [
    "print(max(45,69,10234,4564,231,45664,6875))"
   ]
  },
  {
   "cell_type": "code",
   "execution_count": 23,
   "id": "6b3542f2",
   "metadata": {},
   "outputs": [
    {
     "name": "stdout",
     "output_type": "stream",
     "text": [
      "Deep is a good boy\n",
      "False\n",
      "False\n",
      "False\n",
      "True\n",
      "False\n",
      "False\n",
      "18\n",
      "deep is a good boy\n",
      "y\n",
      " \n",
      "DEEP IS A GOOD BOY\n"
     ]
    }
   ],
   "source": [
    "str=\"deep is a good boy\"\n",
    "print(str.capitalize())\n",
    "print(str.isalnum())\n",
    "print(str.isalpha())\n",
    "print(str.isdigit())\n",
    "print(str.islower())\n",
    "print(str.isspace())\n",
    "print(str.isupper())\n",
    "print(len(str))\n",
    "print(str.lower())\n",
    "print(max(str))\n",
    "print(min(str))\n",
    "print(str.upper())"
   ]
  },
  {
   "cell_type": "code",
   "execution_count": 32,
   "id": "d34df777",
   "metadata": {},
   "outputs": [
    {
     "name": "stdout",
     "output_type": "stream",
     "text": [
      "[1997, 3000, 2004, 2000]\n",
      "After deleting value at index 2 :  <class 'list'>\n"
     ]
    }
   ],
   "source": [
    "z = [1997, 3000, 2004, 2000]\n",
    "print (z)\n",
    "del z[2]\n",
    "print (\"After deleting value at index 2 : \", list)"
   ]
  },
  {
   "cell_type": "code",
   "execution_count": 33,
   "id": "aec16abc",
   "metadata": {},
   "outputs": [
    {
     "name": "stdout",
     "output_type": "stream",
     "text": [
      "3\n",
      "3000\n",
      "1997\n",
      "[1997, 3000, 2000]\n",
      "None\n",
      "None\n"
     ]
    }
   ],
   "source": [
    "print(len(z))\n",
    "print(max(z))\n",
    "print(min(z))\n",
    "print(z.copy())\n",
    "print(z.sort())\n",
    "print(z.reverse())\n",
    "\n",
    "\n"
   ]
  },
  {
   "cell_type": "code",
   "execution_count": 1,
   "id": "ac8143d8",
   "metadata": {},
   "outputs": [
    {
     "name": "stdout",
     "output_type": "stream",
     "text": [
      "dict_keys([240, 224, 230, 223])\n",
      "dict_values(['deep', 'balram', 'parth', 'rishi'])\n",
      "dict_items([(240, 'deep'), (224, 'balram'), (230, 'parth'), (223, 'rishi')])\n"
     ]
    }
   ],
   "source": [
    "a={240:\"deep\",224:\"balram\",230:\"parth\",223:\"rishi\"}\n",
    "print(a.keys())\n",
    "print(a.values())\n",
    "print(a.items())"
   ]
  },
  {
   "cell_type": "code",
   "execution_count": 1,
   "id": "d0512e05",
   "metadata": {},
   "outputs": [
    {
     "name": "stdout",
     "output_type": "stream",
     "text": [
      "[1, 2, 3]\n"
     ]
    }
   ],
   "source": [
    " a=[\n",
    "[1,2,3],\n",
    "[4,5,6]\n",
    "]\n",
    "print(a[0])"
   ]
  },
  {
   "cell_type": "code",
   "execution_count": 4,
   "id": "29b7a414",
   "metadata": {},
   "outputs": [
    {
     "name": "stdout",
     "output_type": "stream",
     "text": [
      "False\n"
     ]
    }
   ],
   "source": [
    "s=\"22bce240 deep\"\n",
    "print(s.isalnum())"
   ]
  },
  {
   "cell_type": "code",
   "execution_count": 6,
   "id": "50b5b251",
   "metadata": {},
   "outputs": [
    {
     "name": "stdout",
     "output_type": "stream",
     "text": [
      "None\n"
     ]
    }
   ],
   "source": [
    "d=[1,2,3,34,5]\n",
    "b=[56,69,7,8,6,5]\n",
    "c=d.append(b)\n",
    "print(c)"
   ]
  },
  {
   "cell_type": "code",
   "execution_count": 6,
   "id": "487bc0f8",
   "metadata": {},
   "outputs": [
    {
     "data": {
      "text/plain": [
       "array([1., 4.])"
      ]
     },
     "execution_count": 6,
     "metadata": {},
     "output_type": "execute_result"
    }
   ],
   "source": [
    "a=np.arange(1,7,3,dtype=float)\n",
    "a\n"
   ]
  },
  {
   "cell_type": "code",
   "execution_count": 10,
   "id": "3ded63b2",
   "metadata": {},
   "outputs": [
    {
     "data": {
      "text/plain": [
       "array([[0, 0, 0],\n",
       "       [0, 0, 0]])"
      ]
     },
     "execution_count": 10,
     "metadata": {},
     "output_type": "execute_result"
    }
   ],
   "source": [
    "np.zeros((2,3),dtype=int)"
   ]
  },
  {
   "cell_type": "code",
   "execution_count": 18,
   "id": "74e2d817",
   "metadata": {},
   "outputs": [
    {
     "ename": "IndentationError",
     "evalue": "expected an indented block after 'for' statement on line 2 (1801622547.py, line 3)",
     "output_type": "error",
     "traceback": [
      "\u001b[1;36m  Cell \u001b[1;32mIn[18], line 3\u001b[1;36m\u001b[0m\n\u001b[1;33m    ...  print i\u001b[0m\n\u001b[1;37m    ^\u001b[0m\n\u001b[1;31mIndentationError\u001b[0m\u001b[1;31m:\u001b[0m expected an indented block after 'for' statement on line 2\n"
     ]
    }
   ],
   "source": [
    "b=np.array([1,2,3,4],int)\n",
    "for i in b:\n",
    "...  print i\n",
    "...  <hit return>"
   ]
  },
  {
   "cell_type": "code",
   "execution_count": 1,
   "id": "74fae7ed",
   "metadata": {},
   "outputs": [
    {
     "name": "stdout",
     "output_type": "stream",
     "text": [
      "dict_items([('deep', 17), (4, 2004), ('nirali', 23)])\n"
     ]
    }
   ],
   "source": [
    "d={'deep':17,4:2004,'nirali':23}\n",
    "print(d.items())"
   ]
  },
  {
   "cell_type": "code",
   "execution_count": 5,
   "id": "d112746e",
   "metadata": {},
   "outputs": [
    {
     "data": {
      "text/plain": [
       "True"
      ]
     },
     "execution_count": 5,
     "metadata": {},
     "output_type": "execute_result"
    }
   ],
   "source": [
    "a=\"                   \"\n",
    "a.isspace()"
   ]
  },
  {
   "cell_type": "code",
   "execution_count": 3,
   "id": "feb2c0ef",
   "metadata": {},
   "outputs": [
    {
     "name": "stdout",
     "output_type": "stream",
     "text": [
      "[0 1 2 3 4 5 6 7 8 9] [[3 7 1]\n",
      " [8 5 9]]\n"
     ]
    }
   ],
   "source": [
    "import numpy as np\n",
    "x = np.arange(10)\n",
    "y = np.random.randint(1, 10, (2, 3))\n",
    "np.savez('outfile', x, y)\n",
    "dict = np.load('outfile.npz')\n",
    "x = dict['arr_0']\n",
    "y = dict['arr_1'] \n",
    "print(x, y)"
   ]
  },
  {
   "cell_type": "code",
   "execution_count": null,
   "id": "1f566def",
   "metadata": {},
   "outputs": [],
   "source": []
  }
 ],
 "metadata": {
  "kernelspec": {
   "display_name": "Python 3 (ipykernel)",
   "language": "python",
   "name": "python3"
  },
  "language_info": {
   "codemirror_mode": {
    "name": "ipython",
    "version": 3
   },
   "file_extension": ".py",
   "mimetype": "text/x-python",
   "name": "python",
   "nbconvert_exporter": "python",
   "pygments_lexer": "ipython3",
   "version": "3.10.10"
  }
 },
 "nbformat": 4,
 "nbformat_minor": 5
}
