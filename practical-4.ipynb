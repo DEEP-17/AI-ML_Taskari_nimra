{
 "cells": [
  {
   "cell_type": "code",
   "execution_count": 1,
   "id": "a934997f",
   "metadata": {},
   "outputs": [
    {
     "name": "stdout",
     "output_type": "stream",
     "text": [
      "best route is : (0, 3, 8, 4, 1, 9, 10, 2, 5, 7, 6)\n",
      "tour length is : 1639\n",
      "time taken  233.703125\n"
     ]
    }
   ],
   "source": [
    "import pandas as pd\n",
    "import time\n",
    "import numpy as np\n",
    "mat=pd.read_csv('11citytsp.csv',header=None).values\n",
    "from itertools import permutations\n",
    "cy=list(range(mat.shape[0]))\n",
    "pr=permutations(cy)\n",
    "st=time.process_time()\n",
    "bstroute=np.inf\n",
    "for tr in pr:\n",
    "    trlength=0\n",
    "    for i in range(len(tr)-1):\n",
    "        trlength=trlength+mat[tr[i],tr[i+1]]\n",
    "    trlength=trlength+mat[tr[i+1],tr[0]]\n",
    "    if trlength<bstroute:\n",
    "        bstroute=trlength\n",
    "        bsttr=tr\n",
    "et=time.process_time()\n",
    "tmtaken=et-st\n",
    "print(\"best route is :\",bsttr)\n",
    "print(\"tour length is :\",bstroute)\n",
    "print(\"time taken \",tmtaken)"
   ]
  },
  {
   "cell_type": "code",
   "execution_count": null,
   "id": "915dc899",
   "metadata": {},
   "outputs": [],
   "source": []
  }
 ],
 "metadata": {
  "kernelspec": {
   "display_name": "Python 3 (ipykernel)",
   "language": "python",
   "name": "python3"
  },
  "language_info": {
   "codemirror_mode": {
    "name": "ipython",
    "version": 3
   },
   "file_extension": ".py",
   "mimetype": "text/x-python",
   "name": "python",
   "nbconvert_exporter": "python",
   "pygments_lexer": "ipython3",
   "version": "3.10.10"
  }
 },
 "nbformat": 4,
 "nbformat_minor": 5
}
