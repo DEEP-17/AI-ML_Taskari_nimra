{
 "cells": [
  {
   "cell_type": "code",
   "execution_count": 1,
   "id": "519a72ea",
   "metadata": {},
   "outputs": [
    {
     "name": "stdout",
     "output_type": "stream",
     "text": [
      "enter the city from 0 to 10:0\n",
      "[[ inf 633. 257.  91. 412. 150.  80. 134. 259. 505. 353.]\n",
      " [633.  inf 390. 661. 227. 488. 572. 530. 555. 289. 282.]\n",
      " [257. 390.  inf 228. 169. 112. 196. 154. 372. 262. 110.]\n",
      " [ 91. 661. 228.  inf 383. 120.  77. 105. 175. 476. 324.]\n",
      " [412. 227. 169. 383.  inf 267. 351. 309. 338. 196.  61.]\n",
      " [150. 488. 112. 120. 267.  inf  63.  34. 264. 360. 208.]\n",
      " [ 80. 572. 196.  77. 351.  63.  inf  29. 232. 444. 292.]\n",
      " [134. 530. 154. 105. 309.  34.  29.  inf 249. 402. 250.]\n",
      " [259. 555. 372. 175. 338. 264. 232. 249.  inf 495. 352.]\n",
      " [505. 289. 262. 476. 196. 360. 444. 402. 495.  inf 154.]\n",
      " [353. 282. 110. 324.  61. 208. 292. 250. 352. 154.  inf]]\n",
      "best tour is [0, 6, 7, 5, 2, 10, 4, 9, 1, 8, 3]\n",
      "tour length is  1732.0\n",
      "time taken is  15.625\n"
     ]
    }
   ],
   "source": [
    "import pandas as pd\n",
    "import time\n",
    "import numpy as np\n",
    "mat=pd.read_csv('11citytsp.csv',header=None).values.astype(float)\n",
    "mat[mat==0]=np.inf\n",
    "mat2=mat.copy()\n",
    "startcity=int( input(\"enter the city from 0 to \" + str(mat.shape[0]-1) + \":\") )\n",
    "besttour=[startcity]\n",
    "tourlength=0\n",
    "st=time.process_time()\n",
    "for i in range(mat.shape[0]-1):\n",
    "    if i==0:\n",
    "        tourlength+=min(mat[startcity,:])\n",
    "        nextbestind=np.argmin(mat[startcity,:])\n",
    "        besttour.append(nextbestind)\n",
    "        mat[:,nextbestind]=np.inf\n",
    "        mat[:,startcity]=np.inf\n",
    "    else:\n",
    "        tourlength+=min(mat[nextbestind,:])\n",
    "        nextbestind=np.argmin(mat[nextbestind,:])\n",
    "        besttour.append(nextbestind)\n",
    "        mat[:,nextbestind]=np.inf\n",
    "tourlength+=mat2[nextbestind,startcity]        \n",
    "et=time.process_time()\n",
    "print(mat2)\n",
    "timetaken=(et-st)*1000\n",
    "print(\"best tour is\",besttour)\n",
    "print(\"tour length is \",tourlength)\n",
    "print(\"time taken is \",timetaken)\n"
   ]
  },
  {
   "cell_type": "code",
   "execution_count": null,
   "id": "a628f1ff",
   "metadata": {},
   "outputs": [],
   "source": []
  }
 ],
 "metadata": {
  "kernelspec": {
   "display_name": "Python 3 (ipykernel)",
   "language": "python",
   "name": "python3"
  },
  "language_info": {
   "codemirror_mode": {
    "name": "ipython",
    "version": 3
   },
   "file_extension": ".py",
   "mimetype": "text/x-python",
   "name": "python",
   "nbconvert_exporter": "python",
   "pygments_lexer": "ipython3",
   "version": "3.10.10"
  }
 },
 "nbformat": 4,
 "nbformat_minor": 5
}
