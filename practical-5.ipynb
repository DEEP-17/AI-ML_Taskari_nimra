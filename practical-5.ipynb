{
 "cells": [
  {
   "cell_type": "code",
   "execution_count": null,
   "id": "9b6b83e0",
   "metadata": {},
   "outputs": [],
   "source": [
    "#travelling sales man problem,if starting city is given\n",
    "import pandas as pd\n",
    "import numpy as np\n",
    "import time\n",
    "mat=pd.read_csv('11citytsp.csv',header=None).values\n",
    "from itertools import permutations\n",
    "startcity=int(input(\"enter the starting city from 0 to 10\\n\"))\n",
    "cn=list(range(mat.shape[0]))\n",
    "cn.remove(startcity)\n",
    "pr=permutations(cn)\n",
    "besttourlen=np.inf\n",
    "st=time.process_time()\n",
    "for tour in pr:\n",
    "    tourlength=0\n",
    "    for i in range(len(tour)-1):\n",
    "        tourlength+=mat[tour[i],tour[i+1]]\n",
    "    tourlength+=mat[startcity,tour[0]]\n",
    "    tourlength+=mat[tour[i+1],startcity]\n",
    "    if tourlength<besttourlen:\n",
    "        besttourlen=tourlength\n",
    "        besttour=tour\n",
    "cn=cn.insert(0,startcity)\n",
    "et=time.process_time()\n",
    "ti_me=(et-st)*1000\n",
    "print(besttourlen)\n",
    "print(besttour)\n",
    "print(ti_me)\n",
    "    "
   ]
  },
  {
   "cell_type": "code",
   "execution_count": null,
   "id": "c5ff9a7e",
   "metadata": {},
   "outputs": [],
   "source": []
  },
  {
   "cell_type": "code",
   "execution_count": null,
   "id": "b8649a73",
   "metadata": {},
   "outputs": [],
   "source": []
  },
  {
   "cell_type": "code",
   "execution_count": null,
   "id": "b365a0b6",
   "metadata": {},
   "outputs": [],
   "source": []
  }
 ],
 "metadata": {
  "kernelspec": {
   "display_name": "Python 3 (ipykernel)",
   "language": "python",
   "name": "python3"
  },
  "language_info": {
   "codemirror_mode": {
    "name": "ipython",
    "version": 3
   },
   "file_extension": ".py",
   "mimetype": "text/x-python",
   "name": "python",
   "nbconvert_exporter": "python",
   "pygments_lexer": "ipython3",
   "version": "3.10.10"
  }
 },
 "nbformat": 4,
 "nbformat_minor": 5
}
